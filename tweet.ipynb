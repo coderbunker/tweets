{
 "cells": [
  {
   "cell_type": "markdown",
   "metadata": {},
   "source": [
    "# Twitter Dataset"
   ]
  },
  {
   "cell_type": "code",
   "execution_count": 1,
   "metadata": {
    "collapsed": false
   },
   "outputs": [
    {
     "ename": "ImportError",
     "evalue": "No module named 'matplotlib'",
     "output_type": "error",
     "traceback": [
      "\u001b[0;31m---------------------------------------------------------------------------\u001b[0m",
      "\u001b[0;31mImportError\u001b[0m                               Traceback (most recent call last)",
      "\u001b[0;32m<ipython-input-1-dc4784d15c00>\u001b[0m in \u001b[0;36m<module>\u001b[0;34m()\u001b[0m\n\u001b[0;32m----> 1\u001b[0;31m \u001b[0mget_ipython\u001b[0m\u001b[0;34m(\u001b[0m\u001b[0;34m)\u001b[0m\u001b[0;34m.\u001b[0m\u001b[0mmagic\u001b[0m\u001b[0;34m(\u001b[0m\u001b[0;34m'matplotlib inline'\u001b[0m\u001b[0;34m)\u001b[0m\u001b[0;34m\u001b[0m\u001b[0m\n\u001b[0m\u001b[1;32m      2\u001b[0m \u001b[0;34m\u001b[0m\u001b[0m\n\u001b[1;32m      3\u001b[0m \u001b[0;32mimport\u001b[0m \u001b[0mpandas\u001b[0m \u001b[0;32mas\u001b[0m \u001b[0mpd\u001b[0m\u001b[0;34m\u001b[0m\u001b[0m\n\u001b[1;32m      4\u001b[0m \u001b[0;32mimport\u001b[0m \u001b[0mnumpy\u001b[0m \u001b[0;32mas\u001b[0m \u001b[0mnp\u001b[0m\u001b[0;34m\u001b[0m\u001b[0m\n\u001b[1;32m      5\u001b[0m \u001b[0;32mimport\u001b[0m \u001b[0mnltk\u001b[0m\u001b[0;34m\u001b[0m\u001b[0m\n",
      "\u001b[0;32m/usr/local/lib/python3.5/site-packages/IPython/core/interactiveshell.py\u001b[0m in \u001b[0;36mmagic\u001b[0;34m(self, arg_s)\u001b[0m\n\u001b[1;32m   2161\u001b[0m         \u001b[0mmagic_name\u001b[0m\u001b[0;34m,\u001b[0m \u001b[0m_\u001b[0m\u001b[0;34m,\u001b[0m \u001b[0mmagic_arg_s\u001b[0m \u001b[0;34m=\u001b[0m \u001b[0marg_s\u001b[0m\u001b[0;34m.\u001b[0m\u001b[0mpartition\u001b[0m\u001b[0;34m(\u001b[0m\u001b[0;34m' '\u001b[0m\u001b[0;34m)\u001b[0m\u001b[0;34m\u001b[0m\u001b[0m\n\u001b[1;32m   2162\u001b[0m         \u001b[0mmagic_name\u001b[0m \u001b[0;34m=\u001b[0m \u001b[0mmagic_name\u001b[0m\u001b[0;34m.\u001b[0m\u001b[0mlstrip\u001b[0m\u001b[0;34m(\u001b[0m\u001b[0mprefilter\u001b[0m\u001b[0;34m.\u001b[0m\u001b[0mESC_MAGIC\u001b[0m\u001b[0;34m)\u001b[0m\u001b[0;34m\u001b[0m\u001b[0m\n\u001b[0;32m-> 2163\u001b[0;31m         \u001b[0;32mreturn\u001b[0m \u001b[0mself\u001b[0m\u001b[0;34m.\u001b[0m\u001b[0mrun_line_magic\u001b[0m\u001b[0;34m(\u001b[0m\u001b[0mmagic_name\u001b[0m\u001b[0;34m,\u001b[0m \u001b[0mmagic_arg_s\u001b[0m\u001b[0;34m)\u001b[0m\u001b[0;34m\u001b[0m\u001b[0m\n\u001b[0m\u001b[1;32m   2164\u001b[0m \u001b[0;34m\u001b[0m\u001b[0m\n\u001b[1;32m   2165\u001b[0m     \u001b[0;31m#-------------------------------------------------------------------------\u001b[0m\u001b[0;34m\u001b[0m\u001b[0;34m\u001b[0m\u001b[0m\n",
      "\u001b[0;32m/usr/local/lib/python3.5/site-packages/IPython/core/interactiveshell.py\u001b[0m in \u001b[0;36mrun_line_magic\u001b[0;34m(self, magic_name, line)\u001b[0m\n\u001b[1;32m   2082\u001b[0m                 \u001b[0mkwargs\u001b[0m\u001b[0;34m[\u001b[0m\u001b[0;34m'local_ns'\u001b[0m\u001b[0;34m]\u001b[0m \u001b[0;34m=\u001b[0m \u001b[0msys\u001b[0m\u001b[0;34m.\u001b[0m\u001b[0m_getframe\u001b[0m\u001b[0;34m(\u001b[0m\u001b[0mstack_depth\u001b[0m\u001b[0;34m)\u001b[0m\u001b[0;34m.\u001b[0m\u001b[0mf_locals\u001b[0m\u001b[0;34m\u001b[0m\u001b[0m\n\u001b[1;32m   2083\u001b[0m             \u001b[0;32mwith\u001b[0m \u001b[0mself\u001b[0m\u001b[0;34m.\u001b[0m\u001b[0mbuiltin_trap\u001b[0m\u001b[0;34m:\u001b[0m\u001b[0;34m\u001b[0m\u001b[0m\n\u001b[0;32m-> 2084\u001b[0;31m                 \u001b[0mresult\u001b[0m \u001b[0;34m=\u001b[0m \u001b[0mfn\u001b[0m\u001b[0;34m(\u001b[0m\u001b[0;34m*\u001b[0m\u001b[0margs\u001b[0m\u001b[0;34m,\u001b[0m\u001b[0;34m**\u001b[0m\u001b[0mkwargs\u001b[0m\u001b[0;34m)\u001b[0m\u001b[0;34m\u001b[0m\u001b[0m\n\u001b[0m\u001b[1;32m   2085\u001b[0m             \u001b[0;32mreturn\u001b[0m \u001b[0mresult\u001b[0m\u001b[0;34m\u001b[0m\u001b[0m\n\u001b[1;32m   2086\u001b[0m \u001b[0;34m\u001b[0m\u001b[0m\n",
      "\u001b[0;32m<decorator-gen-106>\u001b[0m in \u001b[0;36mmatplotlib\u001b[0;34m(self, line)\u001b[0m\n",
      "\u001b[0;32m/usr/local/lib/python3.5/site-packages/IPython/core/magic.py\u001b[0m in \u001b[0;36m<lambda>\u001b[0;34m(f, *a, **k)\u001b[0m\n\u001b[1;32m    191\u001b[0m     \u001b[0;31m# but it's overkill for just that one bit of state.\u001b[0m\u001b[0;34m\u001b[0m\u001b[0;34m\u001b[0m\u001b[0m\n\u001b[1;32m    192\u001b[0m     \u001b[0;32mdef\u001b[0m \u001b[0mmagic_deco\u001b[0m\u001b[0;34m(\u001b[0m\u001b[0marg\u001b[0m\u001b[0;34m)\u001b[0m\u001b[0;34m:\u001b[0m\u001b[0;34m\u001b[0m\u001b[0m\n\u001b[0;32m--> 193\u001b[0;31m         \u001b[0mcall\u001b[0m \u001b[0;34m=\u001b[0m \u001b[0;32mlambda\u001b[0m \u001b[0mf\u001b[0m\u001b[0;34m,\u001b[0m \u001b[0;34m*\u001b[0m\u001b[0ma\u001b[0m\u001b[0;34m,\u001b[0m \u001b[0;34m**\u001b[0m\u001b[0mk\u001b[0m\u001b[0;34m:\u001b[0m \u001b[0mf\u001b[0m\u001b[0;34m(\u001b[0m\u001b[0;34m*\u001b[0m\u001b[0ma\u001b[0m\u001b[0;34m,\u001b[0m \u001b[0;34m**\u001b[0m\u001b[0mk\u001b[0m\u001b[0;34m)\u001b[0m\u001b[0;34m\u001b[0m\u001b[0m\n\u001b[0m\u001b[1;32m    194\u001b[0m \u001b[0;34m\u001b[0m\u001b[0m\n\u001b[1;32m    195\u001b[0m         \u001b[0;32mif\u001b[0m \u001b[0mcallable\u001b[0m\u001b[0;34m(\u001b[0m\u001b[0marg\u001b[0m\u001b[0;34m)\u001b[0m\u001b[0;34m:\u001b[0m\u001b[0;34m\u001b[0m\u001b[0m\n",
      "\u001b[0;32m/usr/local/lib/python3.5/site-packages/IPython/core/magics/pylab.py\u001b[0m in \u001b[0;36mmatplotlib\u001b[0;34m(self, line)\u001b[0m\n\u001b[1;32m     98\u001b[0m             \u001b[0mprint\u001b[0m\u001b[0;34m(\u001b[0m\u001b[0;34m\"Available matplotlib backends: %s\"\u001b[0m \u001b[0;34m%\u001b[0m \u001b[0mbackends_list\u001b[0m\u001b[0;34m)\u001b[0m\u001b[0;34m\u001b[0m\u001b[0m\n\u001b[1;32m     99\u001b[0m         \u001b[0;32melse\u001b[0m\u001b[0;34m:\u001b[0m\u001b[0;34m\u001b[0m\u001b[0m\n\u001b[0;32m--> 100\u001b[0;31m             \u001b[0mgui\u001b[0m\u001b[0;34m,\u001b[0m \u001b[0mbackend\u001b[0m \u001b[0;34m=\u001b[0m \u001b[0mself\u001b[0m\u001b[0;34m.\u001b[0m\u001b[0mshell\u001b[0m\u001b[0;34m.\u001b[0m\u001b[0menable_matplotlib\u001b[0m\u001b[0;34m(\u001b[0m\u001b[0margs\u001b[0m\u001b[0;34m.\u001b[0m\u001b[0mgui\u001b[0m\u001b[0;34m)\u001b[0m\u001b[0;34m\u001b[0m\u001b[0m\n\u001b[0m\u001b[1;32m    101\u001b[0m             \u001b[0mself\u001b[0m\u001b[0;34m.\u001b[0m\u001b[0m_show_matplotlib_backend\u001b[0m\u001b[0;34m(\u001b[0m\u001b[0margs\u001b[0m\u001b[0;34m.\u001b[0m\u001b[0mgui\u001b[0m\u001b[0;34m,\u001b[0m \u001b[0mbackend\u001b[0m\u001b[0;34m)\u001b[0m\u001b[0;34m\u001b[0m\u001b[0m\n\u001b[1;32m    102\u001b[0m \u001b[0;34m\u001b[0m\u001b[0m\n",
      "\u001b[0;32m/usr/local/lib/python3.5/site-packages/IPython/core/interactiveshell.py\u001b[0m in \u001b[0;36menable_matplotlib\u001b[0;34m(self, gui)\u001b[0m\n\u001b[1;32m   2937\u001b[0m         \"\"\"\n\u001b[1;32m   2938\u001b[0m         \u001b[0;32mfrom\u001b[0m \u001b[0mIPython\u001b[0m\u001b[0;34m.\u001b[0m\u001b[0mcore\u001b[0m \u001b[0;32mimport\u001b[0m \u001b[0mpylabtools\u001b[0m \u001b[0;32mas\u001b[0m \u001b[0mpt\u001b[0m\u001b[0;34m\u001b[0m\u001b[0m\n\u001b[0;32m-> 2939\u001b[0;31m         \u001b[0mgui\u001b[0m\u001b[0;34m,\u001b[0m \u001b[0mbackend\u001b[0m \u001b[0;34m=\u001b[0m \u001b[0mpt\u001b[0m\u001b[0;34m.\u001b[0m\u001b[0mfind_gui_and_backend\u001b[0m\u001b[0;34m(\u001b[0m\u001b[0mgui\u001b[0m\u001b[0;34m,\u001b[0m \u001b[0mself\u001b[0m\u001b[0;34m.\u001b[0m\u001b[0mpylab_gui_select\u001b[0m\u001b[0;34m)\u001b[0m\u001b[0;34m\u001b[0m\u001b[0m\n\u001b[0m\u001b[1;32m   2940\u001b[0m \u001b[0;34m\u001b[0m\u001b[0m\n\u001b[1;32m   2941\u001b[0m         \u001b[0;32mif\u001b[0m \u001b[0mgui\u001b[0m \u001b[0;34m!=\u001b[0m \u001b[0;34m'inline'\u001b[0m\u001b[0;34m:\u001b[0m\u001b[0;34m\u001b[0m\u001b[0m\n",
      "\u001b[0;32m/usr/local/lib/python3.5/site-packages/IPython/core/pylabtools.py\u001b[0m in \u001b[0;36mfind_gui_and_backend\u001b[0;34m(gui, gui_select)\u001b[0m\n\u001b[1;32m    258\u001b[0m     \"\"\"\n\u001b[1;32m    259\u001b[0m \u001b[0;34m\u001b[0m\u001b[0m\n\u001b[0;32m--> 260\u001b[0;31m     \u001b[0;32mimport\u001b[0m \u001b[0mmatplotlib\u001b[0m\u001b[0;34m\u001b[0m\u001b[0m\n\u001b[0m\u001b[1;32m    261\u001b[0m \u001b[0;34m\u001b[0m\u001b[0m\n\u001b[1;32m    262\u001b[0m     \u001b[0;32mif\u001b[0m \u001b[0mgui\u001b[0m \u001b[0;32mand\u001b[0m \u001b[0mgui\u001b[0m \u001b[0;34m!=\u001b[0m \u001b[0;34m'auto'\u001b[0m\u001b[0;34m:\u001b[0m\u001b[0;34m\u001b[0m\u001b[0m\n",
      "\u001b[0;31mImportError\u001b[0m: No module named 'matplotlib'"
     ]
    }
   ],
   "source": [
    "%matplotlib inline\n",
    "\n",
    "import pandas as pd\n",
    "import numpy as np\n",
    "import nltk\n",
    "import operator \n",
    "import json\n",
    "from collections import defaultdict\n",
    "\n",
    "import pickle\n",
    "import string\n",
    "from sklearn.feature_extraction.text import CountVectorizer, TfidfTransformer\n",
    "\n",
    "\n",
    "import matplotlib\n",
    "import matplotlib.pyplot as plt\n",
    "from collections import Counter\n",
    "import pyLDAvis\n",
    "from nltk.corpus import stopwords\n",
    "\n",
    "import seaborn as sns\n",
    "\n",
    "import gensim\n",
    "from gensim.corpora import Dictionary, TextCorpus, MmCorpus"
   ]
  },
  {
   "cell_type": "code",
   "execution_count": null,
   "metadata": {
    "collapsed": false
   },
   "outputs": [],
   "source": [
    "np.random.seed(22)\n",
    "sns.set(color_codes=True)\n",
    "pd.set_option('display.max_rows', 1000)\n",
    "pd.set_option('display.max_colwidth', 200)"
   ]
  },
  {
   "cell_type": "markdown",
   "metadata": {
    "collapsed": true
   },
   "source": [
    "## Twitter tokenization"
   ]
  },
  {
   "cell_type": "code",
   "execution_count": null,
   "metadata": {
    "collapsed": true
   },
   "outputs": [],
   "source": [
    "import re\n",
    " \n",
    "emoticons_str = r\"\"\"\n",
    "    (?:\n",
    "        [:=;] # Eyes\n",
    "        [oO\\-]? # Nose (optional)\n",
    "        [D\\)\\]\\(\\]/\\\\OpP] # Mouth\n",
    "    )\"\"\"\n",
    " \n",
    "regex_str = [\n",
    "    emoticons_str,\n",
    "    r'<[^>]+>', # HTML tags\n",
    "    r'(?:@[\\w_]+)', # @-mentions\n",
    "    r\"(?:\\#+[\\w_]+[\\w\\'_\\-]*[\\w_]+)\", # hash-tags\n",
    "    r'http[s]?://(?:[a-z]|[0-9]|[$-_@.&amp;+]|[!*\\(\\),]|(?:%[0-9a-f][0-9a-f]))+', # URLs\n",
    " \n",
    "    r'(?:(?:\\d+,?)+(?:\\.?\\d+)?)', # numbers\n",
    "    r\"(?:[a-z][a-z'\\-_]+[a-z])\", # words with - and '\n",
    "    r'(?:[\\w_]+)', # other words\n",
    "    r'(?:\\S)' # anything else\n",
    "]\n",
    "    \n",
    "tokens_re = re.compile(r'('+'|'.join(regex_str)+')', re.VERBOSE | re.IGNORECASE)\n",
    "emoticon_re = re.compile(r'^'+emoticons_str+'$', re.VERBOSE | re.IGNORECASE)\n",
    " \n",
    "def tokenize(s):\n",
    "    return tokens_re.findall(s)\n",
    " \n",
    "def preprocess(s, lowercase=False):\n",
    "    tokens = tokenize(s)\n",
    "    if lowercase:\n",
    "        tokens = [token if emoticon_re.search(token) else token.lower() for token in tokens]\n",
    "    return tokens"
   ]
  },
  {
   "cell_type": "markdown",
   "metadata": {},
   "source": [
    "## Read dataset"
   ]
  },
  {
   "cell_type": "code",
   "execution_count": null,
   "metadata": {
    "collapsed": false
   },
   "outputs": [],
   "source": [
    "class DataSet():\n",
    "    def __init__(self):\n",
    "        self.invalidate()\n",
    "        pass\n",
    "    \n",
    "    def save(self, df):\n",
    "        df.to_pickle('./data/' + df.name + '.pkl')\n",
    "        return df\n",
    "    \n",
    "    def invalidate(self):\n",
    "        self.dfnormalized = None\n",
    "        return self\n",
    "\n",
    "    def load(self):\n",
    "        try:\n",
    "          self.df = pd.read_pickle('./data/tweets.pkl')\n",
    "        except FileNotFoundError:\n",
    "          self.df = self.read_dataset()\n",
    "          self.df.to_pickle('./data/tweets.pkl')\n",
    "            \n",
    "        self.df = self.df.ix[0:1000]\n",
    "        return self\n",
    "        \n",
    "    def read_dataset(self):\n",
    "        return pd.read_csv('./data/election_day_tweets.csv')\n",
    "\n",
    "    def normalized(self):\n",
    "        if self.dfnormalized is not None:\n",
    "            return self.dfnormalized\n",
    "\n",
    "        df = self.df['text created_at lang user.location user.time_zone retweeted retweet_count id'.split(' ')]\n",
    "        df = df.assign(created_at=df['created_at'].apply(pd.Timestamp))\n",
    "        df = df.set_index('created_at')\n",
    "        df = df.sort_index()\n",
    "        df = df[df['lang'] == 'en']\n",
    "        # Add text length data\n",
    "        df = df.assign(length=df['text'].apply(lambda x: len(x)))\n",
    "        df.name = 'normalized'\n",
    "        \n",
    "        self.dfnormalized = df\n",
    "        \n",
    "        return df\n",
    "\n",
    "    def group(self, interval='15min'):\n",
    "        df = self.normalized()['text length'.split(' ')]\n",
    "        grouped = df.groupby(pd.TimeGrouper(interval))\n",
    "        df = grouped.agg({\n",
    "            'text': lambda x: ''.join(set(x)),\n",
    "            'length': np.sum\n",
    "        })\n",
    "        df = df.assign(count=grouped['text'].count())\n",
    "        \n",
    "        return df\n",
    "    \n",
    "    def plot_count(self, interval):\n",
    "        return self.group(interval)['count'].plot(kind='bar')\n",
    "    \n",
    "    def tokens(self, interval=None):\n",
    "        df = self.normalized() if interval is None else self.group(interval)\n",
    "        # Add token data\n",
    "        df = df.assign(tokens=df['text'].apply(lambda x: preprocess(x, True)))\n",
    "        # Add cleaned token data\n",
    "        others = ['•','💙','🇸','🇺','…']\n",
    "        useless = set(stopwords.words('english')).union(set(string.punctuation)).union(set(others))\n",
    "        df = df.assign(cleaned_tokens=df['tokens'].apply(\\\n",
    "          lambda tokens: list(filter(\\\n",
    "            lambda x: x is not None, [None if t in useless else t for t in tokens] \\\n",
    "          ))\\\n",
    "        ))\n",
    "        \n",
    "        election_tags = ['#electionnight', '#election2016i', '#election2016', '#electionday', '#uselection2016', '#elections2016']\n",
    "        df = df.assign(hashtags=df['cleaned_tokens'].apply(\\\n",
    "          lambda tokens: list(filter(\\\n",
    "            lambda x: x is not None, [t if (t.startswith('#') and t not in election_tags) else None for t in tokens] \\\n",
    "          ))\\\n",
    "        ))\n",
    "        \n",
    "        df = df.assign(hashtags_election=df['cleaned_tokens'].apply(\\\n",
    "          lambda tokens: list(filter(\\\n",
    "            lambda x: x is not None, [t if t in election_tags else None for t in tokens] \\\n",
    "          ))\\\n",
    "        ))\n",
    "        \n",
    "        df = df.assign(addressed_to=df['cleaned_tokens'].apply(\\\n",
    "          lambda tokens: list(filter(\\\n",
    "            lambda x: x is not None, [t if t.startswith('@') else None for t in tokens] \\\n",
    "          ))\\\n",
    "        ))\n",
    "        \n",
    "        df = df.assign(cleaned_tokens=df['cleaned_tokens'].apply(\\\n",
    "          lambda tokens: list(filter(\\\n",
    "            lambda x: x is not None, [None if (t.startswith('#') or t.startswith('@')) else t for t in tokens] \\\n",
    "          ))\\\n",
    "        ))\n",
    "        \n",
    "        return df\n",
    "    \n",
    "    def plot_agg(self, agg, interval=None):\n",
    "        self.tokens(interval)[agg]\n",
    "\n",
    "    def analyze_tokens(self, interval=None):\n",
    "        if interval is None:\n",
    "            interval = '1d'\n",
    "        \n",
    "        df = self.tokens(interval)\n",
    "        counter = Counter()\n",
    "\n",
    "        def _count(x):\n",
    "            counter = Counter()\n",
    "            counter.update(x)\n",
    "            return counter\n",
    "\n",
    "        token_counter = df['cleaned_tokens'].apply(_count)\n",
    "        df = df.assign(token_counter=token_counter)\n",
    "\n",
    "        hashtag_counter = df['hashtags'].apply(_count)\n",
    "        df = df.assign(hashtag_counter=hashtag_counter)\n",
    "\n",
    "        hashtag_election_counter = df['hashtags_election'].apply(_count)\n",
    "        df = df.assign(hashtag_election_counter=hashtag_election_counter)\n",
    "\n",
    "        addressed_to_counter = df['addressed_to'].apply(_count)\n",
    "        df = df.assign(addressed_to_counter=addressed_to_counter)\n",
    "\n",
    "        return df\n",
    "    \n",
    "    def plot_hashtag(self, day, number=10):\n",
    "        d = defaultdict(int)\n",
    "        sns.set_context(\"notebook\", font_scale=1.5)\n",
    "\n",
    "        for v, k in ds.analyze_tokens('1d')['hashtag_counter'].apply(lambda x: x.most_common(number)).ix[day - 1]:\n",
    "          d[v] = k\n",
    "        df = pd.DataFrame(data={\n",
    "         'hashtag': list(d.keys()),\n",
    "         'count': list(d.values())\n",
    "        }).sort_values('count', ascending=False)\n",
    "\n",
    "        # Initialize the matplotlib figure\n",
    "        f, ax = plt.subplots(figsize=(6, 5))\n",
    "        sns.set_context(\"poster\",font_scale=.7)\n",
    "\n",
    "        # Plot the total crashes\n",
    "        sns.set_color_codes(\"pastel\")\n",
    "        sns.barplot(x=\"count\", y=\"hashtag\", data=df,\n",
    "                    label=\"Total\", color=\"b\")\n",
    "\n",
    "        # Add a legend and informative axis label\n",
    "        ax.legend(ncol=2, loc=\"lower right\", frameon=True)\n",
    "        ax.set(ylabel=\"\",\n",
    "               xlabel=\"Most popular hash tag on election day \" + str(day))\n",
    "        sns.despine(left=True, bottom=True)\n",
    "\n",
    "    def plot_tokens(self, day, number=10):\n",
    "        d = defaultdict(int)\n",
    "        sns.set_context(\"notebook\", font_scale=1.5)\n",
    "\n",
    "        for v, k in ds.analyze_tokens('1d')['token_counter'].apply(lambda x: x.most_common(number)).ix[day - 1]:\n",
    "          d[v] = k\n",
    "        df = pd.DataFrame(data={\n",
    "         'tokens': list(d.keys()),\n",
    "         'count': list(d.values())\n",
    "        }).sort_values('count', ascending=False)\n",
    "\n",
    "        # Initialize the matplotlib figure\n",
    "        f, ax = plt.subplots(figsize=(6, 5))\n",
    "        sns.set_context(\"poster\",font_scale=.7)\n",
    "\n",
    "        # Plot the total crashes\n",
    "        sns.set_color_codes(\"pastel\")\n",
    "        sns.barplot(x=\"count\", y=\"tokens\", data=df,\n",
    "                    label=\"Total\", color=\"b\")\n",
    "\n",
    "        # Add a legend and informative axis label\n",
    "        ax.legend(ncol=2, loc=\"lower right\", frameon=True)\n",
    "        ax.set(ylabel=\"\",\n",
    "               xlabel=\"Most popular words on election day \" + str(day))\n",
    "        sns.despine(left=True, bottom=True)\n",
    "\n",
    "    \n",
    "        "
   ]
  },
  {
   "cell_type": "code",
   "execution_count": null,
   "metadata": {
    "collapsed": false
   },
   "outputs": [],
   "source": [
    "ds = DataSet().load()"
   ]
  },
  {
   "cell_type": "code",
   "execution_count": null,
   "metadata": {
    "collapsed": false
   },
   "outputs": [],
   "source": [
    "ds.plot_hashtag(1)\n",
    "ds.plot_hashtag(2)"
   ]
  },
  {
   "cell_type": "code",
   "execution_count": null,
   "metadata": {
    "collapsed": false
   },
   "outputs": [],
   "source": [
    "ds.plot_tokens(1, 10)\n",
    "ds.plot_tokens(2, 10)"
   ]
  },
  {
   "cell_type": "code",
   "execution_count": null,
   "metadata": {
    "collapsed": true
   },
   "outputs": [],
   "source": []
  }
 ],
 "metadata": {
  "kernelspec": {
   "display_name": "Python 3",
   "language": "python",
   "name": "python3"
  },
  "language_info": {
   "codemirror_mode": {
    "name": "ipython",
    "version": 3
   },
   "file_extension": ".py",
   "mimetype": "text/x-python",
   "name": "python",
   "nbconvert_exporter": "python",
   "pygments_lexer": "ipython3",
   "version": "3.5.2"
  }
 },
 "nbformat": 4,
 "nbformat_minor": 2
}
